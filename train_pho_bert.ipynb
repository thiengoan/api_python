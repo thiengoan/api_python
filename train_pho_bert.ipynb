{
 "cells": [
  {
   "cell_type": "code",
   "execution_count": 1,
   "metadata": {},
   "outputs": [
    {
     "name": "stderr",
     "output_type": "stream",
     "text": [
      "e:\\TOOLS\\MyProjets\\api_python\\.venv\\lib\\site-packages\\tqdm\\auto.py:21: TqdmWarning: IProgress not found. Please update jupyter and ipywidgets. See https://ipywidgets.readthedocs.io/en/stable/user_install.html\n",
      "  from .autonotebook import tqdm as notebook_tqdm\n"
     ]
    }
   ],
   "source": [
    "import torch\n",
    "from transformers import BertTokenizer, BertForSequenceClassification\n",
    "from transformers import Trainer, TrainingArguments\n",
    "from sklearn.model_selection import train_test_split\n",
    "import pandas as pd\n",
    "\n",
    "# Tải PhoBERT tokenizer và mô hình đã pre-trained\n",
    "tokenizer = BertTokenizer.from_pretrained('vinai/phobert-base')\n",
    "model = BertForSequenceClassification.from_pretrained('vinai/phobert-base', num_labels=2)  # 2 labels for binary classification\n",
    "\n",
    "# Đọc dataset từ file CSV\n",
    "data = pd.read_csv('/content/crawl_data.csv', encoding='utf-8') \n",
    "\n",
    "train_texts, test_texts, train_labels, test_labels = train_test_split(data['text'].astype(str).values, data['label'], test_size=0.2, random_state=42)\n",
    "\n",
    "# Tokenize dữ liệu\n",
    "train_encodings = tokenizer(train_texts.tolist(), truncation=True, padding=True)\n",
    "test_encodings = tokenizer(test_texts.tolist(), truncation=True, padding=True)\n",
    "\n",
    "# Reset the index of train_labels and test_labels after the split\n",
    "train_labels = train_labels.reset_index(drop=True)\n",
    "test_labels = test_labels.reset_index(drop=True)\n",
    "\n",
    "# Chuyển đổi thành torch Dataset\n",
    "class ReviewsDataset(torch.utils.data.Dataset):\n",
    "    def __init__(self, encodings, labels):\n",
    "        self.encodings = encodings\n",
    "        self.labels = labels\n",
    "    \n",
    "    def __getitem__(self, idx):\n",
    "        item = {key: torch.tensor(val[idx]) for key, val in self.encodings.items()}\n",
    "        item['labels'] = torch.tensor(self.labels[idx])\n",
    "        return item\n",
    "\n",
    "    def __len__(self):\n",
    "        return len(self.labels)\n",
    "\n",
    "# Tạo dataset cho train và test\n",
    "train_dataset = ReviewsDataset(train_encodings, train_labels)\n",
    "test_dataset = ReviewsDataset(test_encodings, test_labels)\n",
    "\n",
    "# Cài đặt các tham số huấn luyện\n",
    "training_args = TrainingArguments(\n",
    "    output_dir='./results',          # nơi lưu kết quả\n",
    "    num_train_epochs=3,              # số lần huấn luyện qua dữ liệu\n",
    "    per_device_train_batch_size=8,   # kích thước batch cho train\n",
    "    per_device_eval_batch_size=16,   # kích thước batch cho test\n",
    "    warmup_steps=500,                # bước warmup\n",
    "    weight_decay=0.01,               # weight decay\n",
    "    logging_dir='./logs',            # nơi lưu log\n",
    "    logging_steps=10,\n",
    "    evaluation_strategy=\"epoch\",     # chiến lược đánh giá sau mỗi epoch\n",
    "    save_strategy=\"epoch\",           # lưu mô hình sau mỗi epoch\n",
    ")\n",
    "\n",
    "# Khởi tạo Trainer\n",
    "trainer = Trainer(\n",
    "    model=model,                         # mô hình PhoBERT\n",
    "    args=training_args,                  # tham số huấn luyện\n",
    "    train_dataset=train_dataset,         # dữ liệu huấn luyện\n",
    "    eval_dataset=test_dataset,           # dữ liệu kiểm tra\n",
    ")\n",
    "\n",
    "# Fine-tune mô hình\n",
    "trainer.train()\n",
    "\n",
    "# Đánh giá mô hình\n",
    "eval_results = trainer.evaluate()\n",
    "\n",
    "# In kết quả đánh giá\n",
    "print(eval_results)"
   ]
  }
 ],
 "metadata": {
  "kernelspec": {
   "display_name": ".venv",
   "language": "python",
   "name": "python3"
  },
  "language_info": {
   "codemirror_mode": {
    "name": "ipython",
    "version": 3
   },
   "file_extension": ".py",
   "mimetype": "text/x-python",
   "name": "python",
   "nbconvert_exporter": "python",
   "pygments_lexer": "ipython3",
   "version": "3.10.11"
  }
 },
 "nbformat": 4,
 "nbformat_minor": 2
}
